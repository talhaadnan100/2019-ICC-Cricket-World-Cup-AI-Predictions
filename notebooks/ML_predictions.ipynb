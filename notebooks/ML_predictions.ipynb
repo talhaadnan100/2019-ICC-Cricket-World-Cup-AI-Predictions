{
 "cells": [
  {
   "cell_type": "code",
   "execution_count": 1,
   "metadata": {},
   "outputs": [],
   "source": [
    "import pandas as pd\n",
    "import numpy as np\n",
    "import matplotlib.pyplot as plt\n",
    "\n",
    "# classifiers / models\n",
    "from sklearn.svm import SVC\n",
    "from sklearn.tree import DecisionTreeClassifier\n",
    "from sklearn.ensemble import RandomForestClassifier\n",
    "from sklearn.neural_network import MLPClassifier\n",
    "\n",
    "# other\n",
    "from sklearn.preprocessing import StandardScaler\n",
    "from sklearn.metrics import log_loss, accuracy_score\n",
    "from sklearn.model_selection import train_test_split, GridSearchCV\n",
    "from sklearn.feature_selection import RFE\n",
    "\n",
    "\n",
    "import warnings\n",
    "warnings.filterwarnings(\"ignore\") # probably not good practice to ignore *all* warnings, but gets the job done for now"
   ]
  },
  {
   "cell_type": "code",
   "execution_count": 2,
   "metadata": {},
   "outputs": [
    {
     "name": "stdout",
     "output_type": "stream",
     "text": [
      "Shape: (4010, 277)\n"
     ]
    }
   ],
   "source": [
    "data = pd.read_csv(\"../data/matches_scorecard_player_details.csv\")\n",
    "print(\"Shape:\",data.shape)\n",
    "#print(list(data.columns))"
   ]
  },
  {
   "cell_type": "markdown",
   "metadata": {},
   "source": [
    "## Predicting Match Winner"
   ]
  },
  {
   "cell_type": "code",
   "execution_count": 3,
   "metadata": {},
   "outputs": [
    {
     "name": "stdout",
     "output_type": "stream",
     "text": [
      "Shape: (4010, 123)\n"
     ]
    }
   ],
   "source": [
    "# Removing non-predictive columns\n",
    "urls = [c for c in data.columns if c[-3:]==\"url\"]\n",
    "names = [c for c in data.columns if c[-4:]==\"name\"]\n",
    "styles = [c for c in data.columns if c[-5:]==\"style\"]\n",
    "ages = [c for c in data.columns if c[-3:]==\"age\"]\n",
    "data_subset = data.drop(['team1', 'team2','scorecard','margin','attendance', 'ground','match_date', 'world_cup']+urls+names+styles+ages, axis=1)\n",
    "print(\"Shape:\", data_subset.shape)"
   ]
  },
  {
   "cell_type": "code",
   "execution_count": 4,
   "metadata": {},
   "outputs": [
    {
     "name": "stdout",
     "output_type": "stream",
     "text": [
      "X and y shapes: (4010, 120) (4010,)\n",
      "Train and Test sets shapes: (3007, 120) (1003, 120) (3007,) (1003,)\n"
     ]
    }
   ],
   "source": [
    "def f(row):\n",
    "    \"Turns match winner into Team 1 or Team 2 or Tied\"\n",
    "    if row['team_1'] == row['winner']:\n",
    "        val = 'team_1'\n",
    "    elif row['team_2'] == row['winner']:\n",
    "        val = 'team_2'\n",
    "    else:\n",
    "        val = 'tied'\n",
    "    return val\n",
    "\n",
    "y = data_subset.apply(f, axis=1)\n",
    "X = data_subset.drop(['team_1', 'team_2', 'winner'], axis=1)\n",
    "print('X and y shapes:', X.shape, y.shape)\n",
    "\n",
    "X_train, X_test, y_train, y_test = train_test_split(X, y, test_size=0.25)\n",
    "print('Train and Test sets shapes:', X_train.shape, X_test.shape, y_train.shape, y_test.shape)"
   ]
  },
  {
   "cell_type": "code",
   "execution_count": 5,
   "metadata": {},
   "outputs": [],
   "source": [
    "scaler = StandardScaler()\n",
    "scaler_model = scaler.fit(X_train)\n",
    "X_train = scaler_model.transform(X_train)\n",
    "X_test = scaler_model.transform(X_test)\n",
    "X_full = scaler_model.transform(X)"
   ]
  },
  {
   "cell_type": "markdown",
   "metadata": {},
   "source": [
    "### A Quick Look at the Baseline"
   ]
  },
  {
   "cell_type": "code",
   "execution_count": 6,
   "metadata": {},
   "outputs": [
    {
     "name": "stdout",
     "output_type": "stream",
     "text": [
      "DecisionTreeClassifier\n",
      "  Train accuracy: 0.9996674426338543\n",
      "  Test accuracy: 0.5712861415752741\n",
      "RandomForestClassifier\n",
      "  Train accuracy: 0.9860325906218823\n",
      "  Test accuracy: 0.6071784646061814\n",
      "MLPClassifier\n",
      "  Train accuracy: 0.9996674426338543\n",
      "  Test accuracy: 0.6281156530408774\n",
      "SVC\n",
      "  Train accuracy: 0.8377120053209178\n",
      "  Test accuracy: 0.6679960119641076\n"
     ]
    }
   ],
   "source": [
    "dtc = DecisionTreeClassifier()\n",
    "dtc.fit(X_train, y_train)\n",
    "print('DecisionTreeClassifier')\n",
    "print('  Train accuracy:', dtc.score(X_train,y_train))\n",
    "print('  Test accuracy:', dtc.score(X_test,y_test))\n",
    "\n",
    "rfc = RandomForestClassifier()\n",
    "rfc.fit(X_train, y_train)\n",
    "print('RandomForestClassifier')\n",
    "print('  Train accuracy:', rfc.score(X_train,y_train))\n",
    "print('  Test accuracy:', rfc.score(X_test,y_test))\n",
    "\n",
    "mlpc = MLPClassifier()\n",
    "mlpc.fit(X_train, y_train)\n",
    "print('MLPClassifier')\n",
    "print('  Train accuracy:', mlpc.score(X_train,y_train))\n",
    "print('  Test accuracy:', mlpc.score(X_test,y_test))\n",
    "\n",
    "svc = SVC()\n",
    "svc.fit(X_train, y_train)\n",
    "print('SVC')\n",
    "print('  Train accuracy:', svc.score(X_train,y_train))\n",
    "print('  Test accuracy:', svc.score(X_test,y_test))"
   ]
  },
  {
   "cell_type": "markdown",
   "metadata": {},
   "source": [
    "### Tuning Hyperparameters for the _Better_ Models"
   ]
  },
  {
   "cell_type": "code",
   "execution_count": 7,
   "metadata": {},
   "outputs": [
    {
     "name": "stdout",
     "output_type": "stream",
     "text": [
      "Number of configurations: 54\n",
      "Best Parameters {'criterion': 'gini', 'max_depth': 10, 'min_samples_split': 20, 'n_estimators': 100}\n",
      "Training Accuracy: 0.9281676089125375\n",
      "Test Accuracy    : 0.6630109670987039\n"
     ]
    }
   ],
   "source": [
    "# Random Forest\n",
    "param_grid = {'n_estimators' : [10, 50, 100], \n",
    "              'criterion' : ['gini', 'entropy'], \n",
    "              'max_depth' : [10, 50, 100],\n",
    "              'min_samples_split': [2, 5, 20]}\n",
    "\n",
    "rfc_gridsearch = GridSearchCV(estimator=RandomForestClassifier(), param_grid=param_grid)\n",
    "print(\"Number of configurations:\", np.prod(list(map(len, param_grid.values()))))\n",
    "\n",
    "rfc_gridsearch.fit(X_train, y_train)\n",
    "print('Best Parameters', rfc_gridsearch.best_params_)\n",
    "print(\"Training Accuracy:\",rfc_gridsearch.score(X_train, y_train))\n",
    "print(\"Test Accuracy    :\",rfc_gridsearch.score(X_test, y_test))"
   ]
  },
  {
   "cell_type": "code",
   "execution_count": 8,
   "metadata": {},
   "outputs": [
    {
     "name": "stdout",
     "output_type": "stream",
     "text": [
      "Number of configurations: 54\n",
      "Best Parameters {'activation': 'tanh', 'alpha': 1e-05, 'hidden_layer_sizes': (50,), 'learning_rate_init': 0.0001}\n",
      "Training Accuracy: 0.7273029597605587\n",
      "Test Accuracy    : 0.6520438683948155\n"
     ]
    }
   ],
   "source": [
    "# Feed forward Neural Network (MLP Classifier)\n",
    "param_grid = {'hidden_layer_sizes' : [(50,), (10,), (10,10)], \n",
    "              'learning_rate_init' : [1e-4, 1e-3, 1e-2], \n",
    "              'alpha' : [1e-5, 1e-4, 1e-3], \n",
    "              'activation' : ['relu', 'tanh']}\n",
    "\n",
    "mlp_gridsearch = GridSearchCV(estimator=MLPClassifier(), param_grid=param_grid)\n",
    "print(\"Number of configurations:\", np.prod(list(map(len, param_grid.values()))))\n",
    "\n",
    "mlp_gridsearch.fit(X_train, y_train)\n",
    "print('Best Parameters', mlp_gridsearch.best_params_)\n",
    "print(\"Training Accuracy:\",mlp_gridsearch.score(X_train, y_train))\n",
    "print(\"Test Accuracy    :\",mlp_gridsearch.score(X_test, y_test))"
   ]
  },
  {
   "cell_type": "code",
   "execution_count": 9,
   "metadata": {},
   "outputs": [
    {
     "name": "stdout",
     "output_type": "stream",
     "text": [
      "Number of configurations: 80\n",
      "Best Parameters {'C': 1, 'gamma': 0.001, 'kernel': 'sigmoid'}\n",
      "Training Accuracy: 0.6923844363152644\n",
      "Test Accuracy    : 0.6630109670987039\n"
     ]
    }
   ],
   "source": [
    "# SVC\n",
    "param_grid = {'C' : [0.001, 0.01, 0.1, 1, 10], \n",
    "              'kernel' : ['rbf', 'poly', 'sigmoid', 'linear'], \n",
    "              'gamma' : [0.001, 0.01, 0.1, 1]}\n",
    "\n",
    "svc_gridsearch = GridSearchCV(estimator=SVC(), param_grid=param_grid)\n",
    "print(\"Number of configurations:\", np.prod(list(map(len, param_grid.values()))))\n",
    "\n",
    "svc_gridsearch.fit(X_train, y_train)\n",
    "print('Best Parameters', svc_gridsearch.best_params_)\n",
    "print(\"Training Accuracy:\",svc_gridsearch.score(X_train, y_train))\n",
    "print(\"Test Accuracy    :\",svc_gridsearch.score(X_test, y_test))"
   ]
  },
  {
   "cell_type": "markdown",
   "metadata": {},
   "source": [
    "### A Deeper Look at the Results"
   ]
  },
  {
   "cell_type": "code",
   "execution_count": 10,
   "metadata": {},
   "outputs": [
    {
     "data": {
      "image/png": "[encoded data removed]",
      "text/plain": [
       "<Figure size 432x288 with 1 Axes>"
      ]
     },
     "metadata": {
      "needs_background": "light"
     },
     "output_type": "display_data"
    }
   ],
   "source": [
    "features = X.columns\n",
    "importances = rfc_gridsearch.best_estimator_.feature_importances_\n",
    "feat_importances = pd.Series(importances, index=X.columns)\n",
    "feat_importances.nlargest(20).plot(kind='barh').invert_yaxis()"
   ]
  },
  {
   "cell_type": "markdown",
   "metadata": {},
   "source": [
    "It is amazing how the strongest predictors sync with intuition very nicely!"
   ]
  }
 ],
 "metadata": {
  "kernelspec": {
   "display_name": "Python 3",
   "language": "python",
   "name": "python3"
  },
  "language_info": {
   "codemirror_mode": {
    "name": "ipython",
    "version": 3
   },
   "file_extension": ".py",
   "mimetype": "text/x-python",
   "name": "python",
   "nbconvert_exporter": "python",
   "pygments_lexer": "ipython3",
   "version": "3.6.8"
  }
 },
 "nbformat": 4,
 "nbformat_minor": 2
}
